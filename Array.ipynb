{
 "cells": [
  {
   "cell_type": "markdown",
   "metadata": {},
   "source": [
    "## Unsorted --> Linear Search"
   ]
  },
  {
   "cell_type": "markdown",
   "metadata": {},
   "source": [
    "Coding implementation of inserting an element at the end unsorted array"
   ]
  },
  {
   "cell_type": "code",
   "execution_count": 2,
   "metadata": {},
   "outputs": [],
   "source": [
    "a= [5,1,4,2,6]\n",
    "b=3"
   ]
  },
  {
   "cell_type": "code",
   "execution_count": 6,
   "metadata": {},
   "outputs": [],
   "source": [
    "a.append(b)"
   ]
  },
  {
   "cell_type": "code",
   "execution_count": 7,
   "metadata": {},
   "outputs": [
    {
     "data": {
      "text/plain": [
       "[5, 1, 4, 2, 6, 3]"
      ]
     },
     "execution_count": 7,
     "metadata": {},
     "output_type": "execute_result"
    }
   ],
   "source": [
    "a"
   ]
  },
  {
   "cell_type": "code",
   "execution_count": 16,
   "metadata": {},
   "outputs": [],
   "source": [
    "#Using function\n",
    "def insert(a,b):\n",
    "    a.append(b)\n",
    "    "
   ]
  },
  {
   "cell_type": "code",
   "execution_count": 17,
   "metadata": {},
   "outputs": [
    {
     "name": "stdout",
     "output_type": "stream",
     "text": [
      "[5, 1, 4, 2, 6]\n",
      "[5, 1, 4, 2, 6, 3]\n"
     ]
    }
   ],
   "source": [
    "if __name__== '__main__':\n",
    "    a= [5,1,4,2,6]\n",
    "    b=3\n",
    "    print(a)\n",
    "    insert(a,b)\n",
    "    print(a)"
   ]
  },
  {
   "cell_type": "markdown",
   "metadata": {},
   "source": [
    "Coding implementation of inserting an element at any position unsorted array"
   ]
  },
  {
   "cell_type": "code",
   "execution_count": 51,
   "metadata": {},
   "outputs": [],
   "source": [
    "#without library\n",
    "\n",
    "def insert(arr, n, x, pos) :\n",
    "     \n",
    "    # shift elements to the right\n",
    "    # which are on the right side of pos\n",
    "    for i in range(n-1,pos-1,-1) :\n",
    "        arr[i + 1] = arr[i] \n",
    "        arr[pos] = x\n",
    "        "
   ]
  },
  {
   "cell_type": "code",
   "execution_count": 62,
   "metadata": {},
   "outputs": [
    {
     "name": "stdout",
     "output_type": "stream",
     "text": [
      "1 2 3 4 5 6 "
     ]
    }
   ],
   "source": [
    "if __name__== '__main__':\n",
    "    arr = [1,2,3,4,5,6,3,5,7,8,2]\n",
    "    pos= 4\n",
    "    x= 10\n",
    "    n= 11\n",
    "    insert(arr,n,pos,x);\n",
    "    n+=1\n",
    "    for i in range(0,n) :\n",
    "        print(arr[i],end=' ')"
   ]
  },
  {
   "cell_type": "code",
   "execution_count": 24,
   "metadata": {},
   "outputs": [],
   "source": [
    "#with library\n",
    "arr = [1,2,3,4,5,6,3,5,7,8,2]\n",
    "pos= 4\n",
    "x= 20\n",
    "arr.insert(pos,x)"
   ]
  },
  {
   "cell_type": "code",
   "execution_count": 25,
   "metadata": {},
   "outputs": [
    {
     "data": {
      "text/plain": [
       "[1, 2, 3, 4, 20, 5, 6, 3, 5, 7, 8, 2]"
      ]
     },
     "execution_count": 25,
     "metadata": {},
     "output_type": "execute_result"
    }
   ],
   "source": [
    "arr"
   ]
  },
  {
   "cell_type": "markdown",
   "metadata": {},
   "source": [
    "Coding implementation of deleting an element unsorted array"
   ]
  },
  {
   "cell_type": "code",
   "execution_count": 65,
   "metadata": {},
   "outputs": [
    {
     "data": {
      "text/plain": [
       "[1, 2, 3, 4, 5, 3, 5, 7, 8, 2]"
      ]
     },
     "execution_count": 65,
     "metadata": {},
     "output_type": "execute_result"
    }
   ],
   "source": [
    "#with library\n",
    "arr = [1,2,3,4,5,6,3,5,7,8,2]\n",
    "x= 6\n",
    "\n",
    "arr.remove(x)\n",
    "arr"
   ]
  },
  {
   "cell_type": "code",
   "execution_count": 67,
   "metadata": {},
   "outputs": [
    {
     "name": "stdout",
     "output_type": "stream",
     "text": [
      "[1, 2, 3, 4, 5, 3, 5, 7, 8, 2]\n"
     ]
    }
   ],
   "source": [
    "if __name__ == '__main__':\n",
    "    arr = [1,2,3,4,5,6,3,5,7,8,2]\n",
    "    x= 6\n",
    "    arr.remove(x)\n",
    "    print(arr)"
   ]
  },
  {
   "cell_type": "markdown",
   "metadata": {},
   "source": [
    "Coding implementation of inserting an element at the end sorted array"
   ]
  },
  {
   "cell_type": "markdown",
   "metadata": {},
   "source": [
    "## Sorted array --> Binary Search"
   ]
  },
  {
   "cell_type": "markdown",
   "metadata": {},
   "source": [
    "Coding implementation of searching an element in sorted array"
   ]
  },
  {
   "cell_type": "code",
   "execution_count": 86,
   "metadata": {},
   "outputs": [
    {
     "name": "stdout",
     "output_type": "stream",
     "text": [
      "9\n"
     ]
    }
   ],
   "source": [
    "def binary(arr, search,low, high):\n",
    "    mid = (low+high)/2\n",
    "    if search < arr[int(mid)]:\n",
    "        return binary(arr, search, low, (mid+1))\n",
    "    \n",
    "    if search > arr[int(mid)]:\n",
    "        return binary(arr, search, (mid-1), high)\n",
    "    if search == arr[int(mid)]:\n",
    "        return mid\n",
    "        \n",
    "if __name__ == '__main__':\n",
    "    arr = [ 1, 2, 3, 4, 5, 6, 6, 7, 18, 256]\n",
    "    search = 256\n",
    "    low =0 \n",
    "    high = len(arr)\n",
    "    print(int(binary(arr, search,low, high)))"
   ]
  },
  {
   "cell_type": "markdown",
   "metadata": {},
   "source": [
    "Coding implementation of inserting an element in the sorted array"
   ]
  },
  {
   "cell_type": "code",
   "execution_count": 128,
   "metadata": {},
   "outputs": [
    {
     "name": "stdout",
     "output_type": "stream",
     "text": [
      "9 5\n"
     ]
    },
    {
     "data": {
      "text/plain": [
       "[1, 2, 3, 4, 5, 6, 7, 8, 9, 10]"
      ]
     },
     "execution_count": 128,
     "metadata": {},
     "output_type": "execute_result"
    }
   ],
   "source": [
    "#without library\n",
    "arr = [1, 2, 3, 5, 6, 7, 8, 9, 10]\n",
    "n =4\n",
    "l = len(arr)\n",
    "index =0\n",
    "for i in range (l):\n",
    "    if (n < arr[i]):\n",
    "        index = i\n",
    "        print(l, arr[i])\n",
    "        break\n",
    "list1 = arr[:index]\n",
    "list2 = arr[index:]\n",
    "mylist = arr[:index] + [n] + arr[index:]\n",
    "mylist"
   ]
  },
  {
   "cell_type": "code",
   "execution_count": 130,
   "metadata": {},
   "outputs": [
    {
     "name": "stdout",
     "output_type": "stream",
     "text": [
      "8\n",
      "0\n",
      "None\n"
     ]
    }
   ],
   "source": [
    "#with library\n",
    "arr1 = [ 1,2,3,4,5,8,9,12]\n",
    "element1 = 7\n",
    "l1 = len(arr1)\n",
    "index1 = 0 \n",
    "for i in range(l1):\n",
    "    if arr1[i] > element1:\n",
    "        print(arr1[i])\n",
    "        index1 == i\n",
    "        print(index1)\n",
    "        break\n",
    "print(arr1.insert(index1,element1))"
   ]
  },
  {
   "cell_type": "markdown",
   "metadata": {},
   "source": [
    "Coding implementation of deleting an element sorted array"
   ]
  },
  {
   "cell_type": "code",
   "execution_count": 131,
   "metadata": {},
   "outputs": [
    {
     "name": "stdout",
     "output_type": "stream",
     "text": [
      "[1, 2, 3, 4, 5, 8, 12]\n"
     ]
    }
   ],
   "source": [
    "#with library\n",
    "arr1 = [ 1,2,3,4,5,8,9,12]\n",
    "arr1.remove(9)\n",
    "print(arr1)"
   ]
  },
  {
   "cell_type": "code",
   "execution_count": null,
   "metadata": {},
   "outputs": [],
   "source": []
  }
 ],
 "metadata": {
  "kernelspec": {
   "display_name": "Python 3",
   "language": "python",
   "name": "python3"
  },
  "language_info": {
   "codemirror_mode": {
    "name": "ipython",
    "version": 3
   },
   "file_extension": ".py",
   "mimetype": "text/x-python",
   "name": "python",
   "nbconvert_exporter": "python",
   "pygments_lexer": "ipython3",
   "version": "3.8.5"
  }
 },
 "nbformat": 4,
 "nbformat_minor": 4
}
