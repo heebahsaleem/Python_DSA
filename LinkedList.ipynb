{
 "cells": [
  {
   "cell_type": "markdown",
   "metadata": {},
   "source": [
    "Find the missing number in the array"
   ]
  },
  {
   "cell_type": "code",
   "execution_count": 21,
   "metadata": {},
   "outputs": [
    {
     "name": "stdout",
     "output_type": "stream",
     "text": [
      "4.0\n"
     ]
    }
   ],
   "source": [
    "def missing(arr,l):\n",
    "    total = (l+1)*(l+2)/2\n",
    "    s = sum(arr)\n",
    "    return total -s\n",
    "    \n",
    "if __name__ == '__main__':\n",
    "    arr = [3,2,1,5,6,7,8]\n",
    "    l= len(arr)\n",
    "    print(missing(arr,l))"
   ]
  },
  {
   "cell_type": "markdown",
   "metadata": {},
   "source": [
    "Determine if the sum of two integers in array is equal to the given value"
   ]
  },
  {
   "cell_type": "code",
   "execution_count": 44,
   "metadata": {},
   "outputs": [
    {
     "name": "stdout",
     "output_type": "stream",
     "text": [
      "Not found\n"
     ]
    }
   ],
   "source": [
    "def find(arr,x):\n",
    "    for i in range(len(arr)):\n",
    "        for j in range (i+1):\n",
    "            if arr[i]+arr[j] == x: \n",
    "                return True\n",
    "    return False\n",
    "\n",
    "if __name__ == '__main__':\n",
    "    arr = [1,2,5,1,4,6,7,8]\n",
    "    x =80\n",
    "    result = find(arr,x)\n",
    "    if result:\n",
    "        print(\"Found\")\n",
    "    else:\n",
    "        print(\"Not found\")"
   ]
  },
  {
   "cell_type": "code",
   "execution_count": null,
   "metadata": {},
   "outputs": [],
   "source": []
  }
 ],
 "metadata": {
  "kernelspec": {
   "display_name": "Python 3",
   "language": "python",
   "name": "python3"
  },
  "language_info": {
   "codemirror_mode": {
    "name": "ipython",
    "version": 3
   },
   "file_extension": ".py",
   "mimetype": "text/x-python",
   "name": "python",
   "nbconvert_exporter": "python",
   "pygments_lexer": "ipython3",
   "version": "3.8.5"
  }
 },
 "nbformat": 4,
 "nbformat_minor": 4
}
